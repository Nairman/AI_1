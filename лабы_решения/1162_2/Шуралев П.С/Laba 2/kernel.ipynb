{
  "cells": [
    {
      "metadata": {
        "_uuid": "8f2839f25d086af736a60e9eeb907d3b93b6e0e5",
        "_cell_guid": "b1076dfc-b9ad-4769-8c92-a6c4dae69d19",
        "trusted": true
      },
      "cell_type": "code",
      "source": "# This Python 3 environment comes with many helpful analytics libraries installed\n# It is defined by the kaggle/python docker image: https://github.com/kaggle/docker-python\n# For example, here's several helpful packages to load in \n\nimport numpy as np # linear algebra\nimport pandas as pd # data processing, CSV file I/O (e.g. pd.read_csv)\n\n# Input data files are available in the \"../input/\" directory.\n# For example, running this (by clicking run or pressing Shift+Enter) will list the files in the input directory\n\nimport os\nprint(os.listdir(\"../input\"))\n\n# Any results you write to the current directory are saved as output.",
      "execution_count": null,
      "outputs": []
    },
    {
      "metadata": {
        "_cell_guid": "79c7e3d0-c299-4dcb-8224-4455121ee9b0",
        "_uuid": "d629ff2d2480ee46fbb7e2d37f6b5fab8052498a",
        "trusted": true,
        "_kg_hide-input": false
      },
      "cell_type": "code",
      "source": "import pandas as pd\nimport numpy as np\ndf = pd.read_csv('../input/telecom/telecom_churn.csv')\ndf.head()",
      "execution_count": null,
      "outputs": []
    },
    {
      "metadata": {
        "trusted": true,
        "_uuid": "8f9a78fdbd3f50474159e25af757f23c8aee2ccf"
      },
      "cell_type": "code",
      "source": "pd.set_option('display.max_columns', 100)\npd.set_option('display.max_columns', 100)\ndf.head()",
      "execution_count": null,
      "outputs": []
    },
    {
      "metadata": {
        "trusted": true,
        "_uuid": "cbe51ee228dfacf01522f5d9d6bc702b56e37702"
      },
      "cell_type": "code",
      "source": "print(df.shape)\n",
      "execution_count": null,
      "outputs": []
    },
    {
      "metadata": {
        "trusted": true,
        "_uuid": "a5233bc718f1f4de5554a3ca03fafc24df4008c2"
      },
      "cell_type": "code",
      "source": "print(df.columns)",
      "execution_count": null,
      "outputs": []
    },
    {
      "metadata": {
        "trusted": true,
        "_uuid": "1929e761748fa2c622c34c0fc2801238eb06ef1e"
      },
      "cell_type": "code",
      "source": "print(df.info())",
      "execution_count": null,
      "outputs": []
    },
    {
      "metadata": {
        "trusted": true,
        "_uuid": "6894c6e9a3c855419e1b852118e87f8f514b3bdb"
      },
      "cell_type": "code",
      "source": "df['Churn'] = df['Churn'].astype('int64')\nprint(df.info())",
      "execution_count": null,
      "outputs": []
    },
    {
      "metadata": {
        "trusted": true,
        "_uuid": "d454e1cf8cfa366f6e5691308d385f09cfe0f1e0"
      },
      "cell_type": "code",
      "source": "df.sort_values(by='Total day charge', ascending=False).head()",
      "execution_count": null,
      "outputs": []
    },
    {
      "metadata": {
        "trusted": true,
        "_uuid": "d7e326405880a98603ba411450f61c7a2d176ec8"
      },
      "cell_type": "code",
      "source": "df.sort_values(by=['Churn', 'Total day charge'], ascending=[True, False]).head()",
      "execution_count": null,
      "outputs": []
    },
    {
      "metadata": {
        "trusted": true,
        "_uuid": "17647a6c9354ac54b33c54f85444907102bf974a"
      },
      "cell_type": "code",
      "source": "df.apply(np.max)",
      "execution_count": null,
      "outputs": []
    },
    {
      "metadata": {
        "trusted": true,
        "_uuid": "69dd811e7d9076f311721b2d472d91a505614ad8"
      },
      "cell_type": "code",
      "source": "d = {'No': False, 'Yes' : True}\ndf['International plan'] = df['International plan'].map(d)\ndf.head()",
      "execution_count": null,
      "outputs": []
    },
    {
      "metadata": {
        "trusted": true,
        "_uuid": "0b35f5c8b9397cf77c4948f3fc60bfdddacb42b7"
      },
      "cell_type": "code",
      "source": "%matplotlib inline\nimport seaborn as sns\nimport matplotlib.pyplot as plt\n%config InlineBackend.figure_format = 'svg'\nfrom pylab import rcParams\nrcParams['figure.figsize'] = 8, 5\nimport pandas as pd\ndf = pd.read_csv('../input/videog/video_games_sales.csv')\ndf.info()\ndf.head()",
      "execution_count": null,
      "outputs": []
    },
    {
      "metadata": {
        "trusted": true,
        "_uuid": "af4ec57c1d6b75417ac5842406380811d5711bfc"
      },
      "cell_type": "code",
      "source": "d = {'NaN': 0}\ndf['User_Score'] = df['User_Score'].map(d)\ndf['User_Score'] = df.User_Score.astype('float64')\ndf['Year_of_Release'] = df.Year_of_Release.astype('float64')\ndf['User_Count'] = df.User_Count.astype('float64')\ndf['Critic_Count'] = df.Critic_Count.astype('float64')\ndf.info()",
      "execution_count": null,
      "outputs": []
    },
    {
      "metadata": {
        "trusted": true,
        "_uuid": "4af2e614368754a9f1343fa4aa3e56989c1e7cd9"
      },
      "cell_type": "code",
      "source": "df = df.dropna()\nprint(df.shape)",
      "execution_count": null,
      "outputs": []
    },
    {
      "metadata": {
        "trusted": true,
        "_uuid": "4c75e0bbbe1cbac18fc1d2e189b2ab5669159c7a"
      },
      "cell_type": "code",
      "source": "use = ['Name','Platform', 'Year_of_Release', 'Genre', 'Global_Sales'\n      ,'Critic_Score', 'Critic_Count', 'User_Score', 'User_Count', 'Rating']\ndf[use].head()",
      "execution_count": null,
      "outputs": []
    },
    {
      "metadata": {
        "trusted": true,
        "_uuid": "bc08b2eaa1b1379a287810efd5ab121dd641e13e"
      },
      "cell_type": "code",
      "source": "dfsel = df[[x for x in df.columns if 'Sales' in x] + ['Year_of_Release']]\ndfsel.groupby('Year_of_Release').sum().plot()",
      "execution_count": null,
      "outputs": []
    },
    {
      "metadata": {
        "trusted": true,
        "_uuid": "4fa8d864d253ddb31370b4646a0e40d6840e1a39"
      },
      "cell_type": "code",
      "source": "dfsel.groupby('Year_of_Release').sum().plot(kind='bar', rot=45)",
      "execution_count": null,
      "outputs": []
    },
    {
      "metadata": {
        "trusted": true,
        "_uuid": "128c705463f5c272782c613b0c83f77add93b731"
      },
      "cell_type": "code",
      "source": "df1 = pd.read_csv('../input/videog/video_games_sales.csv')\ncols = ['Global_Sales', 'Critic_Score', 'Critic_Count',\n       'User_Score','User_Count']\nsns_plot = sns.pairplot(df1[cols])\nsns_plot.savefig('pairplot.png')",
      "execution_count": null,
      "outputs": []
    },
    {
      "metadata": {
        "trusted": true,
        "_uuid": "bcb1c545df73b08fc3c4f64c30f62f2dfb2d3336"
      },
      "cell_type": "code",
      "source": "sns.distplot(df1.Critic_Score)",
      "execution_count": null,
      "outputs": []
    },
    {
      "metadata": {
        "trusted": true,
        "_uuid": "5b7a935c3f1c1fbc24d92508b2ceb586f5556887"
      },
      "cell_type": "code",
      "source": "plat = df.Platform.value_counts().sort_values(ascending = False).head(5).index.values\nsns.boxplot(y=\"Platform\", x=\"Critic_Score\", data= df1[df1.Platform.isin(plat)], orient=\"h\")",
      "execution_count": null,
      "outputs": []
    },
    {
      "metadata": {
        "trusted": true,
        "_uuid": "12c918b548e072472a1b12f54df86ccccfc2eaab"
      },
      "cell_type": "code",
      "source": "platsal = df1.pivot_table(index='Platform', columns='Genre', values='Global_Sales', aggfunc=sum).fillna(0).applymap(float)\nsns.heatmap(platsal, annot=True, fmt='.1f', linewidths=.5)",
      "execution_count": null,
      "outputs": []
    },
    {
      "metadata": {
        "trusted": true,
        "_uuid": "1597062416aa1064cc86503e9be393358809036d"
      },
      "cell_type": "code",
      "source": "from plotly.offline import download_plotlyjs, init_notebook_mode, plot, iplot\nimport plotly\nimport plotly.graph_objs as go\ninit_notebook_mode(connected=True)",
      "execution_count": null,
      "outputs": []
    },
    {
      "metadata": {
        "trusted": true,
        "_uuid": "ee2d5c2c763303977fd89a217f5e35b08fef29d0"
      },
      "cell_type": "code",
      "source": "years_df1 = df1.groupby('Year_of_Release')[['Global_Sales']].sum().join(\n    df1.groupby('Year_of_Release')[['Name']].count())\nyears_df1.columns = ['Global_Sales', 'Number_of_Games']\ntrace0 = go.Scatter( x = years_df1.index, y=years_df1.Global_Sales, name='Global Sales')\ntrace1 = go.Scatter(x = years_df1.index, y = years_df1.Number_of_Games, name = 'Number of games released')\ndata = [trace0, trace1]\nlayout = {'title': 'Statistics of video games'}\nfig = go.Figure(data=data, layout=layout)\niplot(fig, show_link=False)",
      "execution_count": null,
      "outputs": []
    },
    {
      "metadata": {
        "trusted": true,
        "_uuid": "1494df438a5c195ea95b533cb7782dfb38fcd78b"
      },
      "cell_type": "code",
      "source": "plotly.offline.plot(fig, filename='years_stats.html', show_link=False)",
      "execution_count": null,
      "outputs": []
    },
    {
      "metadata": {
        "trusted": true,
        "_uuid": "6e466f7e796546f683d3f7f2d52995f0fffcf844"
      },
      "cell_type": "code",
      "source": "plat_df1 = df1.groupby('Platform')[['Global_Sales']].sum().join(\n    df1.groupby('Platform')[['Name']].count())\nplat_df1.columns = ['Global_Sales', 'Number_of_Games']\nplat_df1.sort_values('Global_Sales', ascending=False, inplace=True)\ntrace0 = go.Bar( x = plat_df1.index, y=plat_df1.Global_Sales, name='Global Sales')\ntrace1 = go.Bar(x = plat_df1.index, y = plat_df1.Number_of_Games, name = 'Number of games released')\ndata = [trace0, trace1]\nlayout = {'title': 'Statistics of video games', 'xaxis': {'title': 'platform'}}\nfig = go.Figure(data=data, layout=layout)\niplot(fig, show_link=False)",
      "execution_count": null,
      "outputs": []
    },
    {
      "metadata": {
        "trusted": true,
        "_uuid": "f465d1de95285c03d8e234cfa3ed102c4b117827"
      },
      "cell_type": "code",
      "source": "data = []\nfor genre in df1.Genre.unique():\n    data.append(go.Box(y=df1[df1.Genre==genre].Critic_Score, name=genre))\niplot(data, show_link = False)",
      "execution_count": null,
      "outputs": []
    },
    {
      "metadata": {
        "trusted": true,
        "_uuid": "75333871115dc4ad08e443319b2bbfd7e05c53cc"
      },
      "cell_type": "code",
      "source": "",
      "execution_count": null,
      "outputs": []
    }
  ],
  "metadata": {
    "kernelspec": {
      "display_name": "Python 3",
      "language": "python",
      "name": "python3"
    },
    "language_info": {
      "name": "python",
      "version": "3.6.6",
      "mimetype": "text/x-python",
      "codemirror_mode": {
        "name": "ipython",
        "version": 3
      },
      "pygments_lexer": "ipython3",
      "nbconvert_exporter": "python",
      "file_extension": ".py"
    }
  },
  "nbformat": 4,
  "nbformat_minor": 1
}