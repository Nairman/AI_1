{
  "cells": [
    {
      "metadata": {
        "_uuid": "8f2839f25d086af736a60e9eeb907d3b93b6e0e5",
        "_cell_guid": "b1076dfc-b9ad-4769-8c92-a6c4dae69d19",
        "trusted": true
      },
      "cell_type": "code",
      "source": "# This Python 3 environment comes with many helpful analytics libraries installed\n# It is defined by the kaggle/python docker image: https://github.com/kaggle/docker-python\n# For example, here's several helpful packages to load in \n\nimport numpy as np # linear algebra\nimport pandas as pd # data processing, CSV file I/O (e.g. pd.read_csv)\n\n# Input data files are available in the \"../input/\" directory.\n# For example, running this (by clicking run or pressing Shift+Enter) will list the files in the input directory\n\nimport os\nprint(os.listdir(\"../input\"))\n\n# Any results you write to the current directory are saved as output.",
      "execution_count": null,
      "outputs": []
    },
    {
      "metadata": {
        "_cell_guid": "79c7e3d0-c299-4dcb-8224-4455121ee9b0",
        "_uuid": "d629ff2d2480ee46fbb7e2d37f6b5fab8052498a",
        "trusted": true
      },
      "cell_type": "code",
      "source": "df = pd.read_csv('../input/telecom_churn.csv')\ndf.head()",
      "execution_count": null,
      "outputs": []
    },
    {
      "metadata": {
        "trusted": true,
        "_uuid": "95869eadb80ff856e02b4147fb59d1e131eb8e2e"
      },
      "cell_type": "code",
      "source": "df['Churn'].mean()",
      "execution_count": null,
      "outputs": []
    },
    {
      "metadata": {
        "trusted": true,
        "_uuid": "a41cdfc1952bfc201b622a15ac973ac4e4d70819"
      },
      "cell_type": "code",
      "source": "df[df['Churn']==1].mean()",
      "execution_count": null,
      "outputs": []
    },
    {
      "metadata": {
        "trusted": true,
        "_uuid": "3d02fcc357aea1ff753bf91c04ebfa25e0d7ee5a"
      },
      "cell_type": "code",
      "source": "df[df['Churn']==1]['Total day minutes'].mean()",
      "execution_count": null,
      "outputs": []
    },
    {
      "metadata": {
        "trusted": true,
        "_uuid": "7df383bd2fe6c59e4266cd29b02e487d4a56f04b"
      },
      "cell_type": "code",
      "source": "df[(df['Churn']==0) & (df['International plan']=='No')]['Total day minutes'].max()",
      "execution_count": null,
      "outputs": []
    },
    {
      "metadata": {
        "trusted": true,
        "_uuid": "70cd80aa18cfdfea0ea5f80b231308e7087ef0c1"
      },
      "cell_type": "code",
      "source": "df.loc[0:10, 'State':'Total day calls']",
      "execution_count": null,
      "outputs": []
    },
    {
      "metadata": {
        "trusted": true,
        "_uuid": "740a02e82dc55ccdb8dfc1ac587b9785a2609020"
      },
      "cell_type": "code",
      "source": "df.iloc[0:15, 0:5]",
      "execution_count": null,
      "outputs": []
    },
    {
      "metadata": {
        "trusted": true,
        "_uuid": "9ffa1c6b6dd9ac0b88eacce02e1c0def1c18ac55"
      },
      "cell_type": "code",
      "source": "df[:1]",
      "execution_count": null,
      "outputs": []
    },
    {
      "metadata": {
        "trusted": true,
        "_uuid": "3b0028f2389dc413e743aed2aee97ac02113f959"
      },
      "cell_type": "code",
      "source": "df[-1:]",
      "execution_count": null,
      "outputs": []
    },
    {
      "metadata": {
        "trusted": true,
        "_uuid": "43f79dac5af38ce5ea093e20a6db2216172df064"
      },
      "cell_type": "code",
      "source": "d = {'No': False, 'Yes': True}\ndf = df.replace({'Voice mail plan': d})\ndf.head()",
      "execution_count": null,
      "outputs": []
    },
    {
      "metadata": {
        "trusted": true,
        "_uuid": "9de9678234a9e2aa6d559dac3a9e4545ad566fa1"
      },
      "cell_type": "code",
      "source": "show = ['Total day minutes' ,'Total eve minutes' ,'Total night minutes']\ndf.groupby(['Churn'])[show].describe(percentiles=[])",
      "execution_count": null,
      "outputs": []
    },
    {
      "metadata": {
        "trusted": true,
        "_uuid": "21b5ec3e5caf63c1743ad1cdb8709c384f0cb555"
      },
      "cell_type": "code",
      "source": "df.groupby(['Churn'])[show].agg([np.mean, np.min, np.max])",
      "execution_count": null,
      "outputs": []
    },
    {
      "metadata": {
        "trusted": true,
        "_uuid": "cdcd9db8e785b6fefbd3bf5e26b39fe331176654"
      },
      "cell_type": "code",
      "source": "pd.crosstab(df['Churn'], df['International plan'])",
      "execution_count": null,
      "outputs": []
    },
    {
      "metadata": {
        "trusted": true,
        "_uuid": "4ef37162dfbe0e866904e6ff5f686b2ce215043e"
      },
      "cell_type": "code",
      "source": "pd.crosstab(df['Churn'], df['International plan'], normalize=True)",
      "execution_count": null,
      "outputs": []
    },
    {
      "metadata": {
        "trusted": true,
        "_uuid": "e5f94f4d9f6f1eea442ab5ad2b9e22041a53470a"
      },
      "cell_type": "code",
      "source": "df.pivot_table(['Total day calls', 'Total eve calls', 'Total night calls'], ['Area code'], aggfunc='mean').head()",
      "execution_count": null,
      "outputs": []
    },
    {
      "metadata": {
        "trusted": true,
        "_uuid": "287607ec53b4fde959035738810d9af05212a3d6"
      },
      "cell_type": "code",
      "source": "total_calls = df['Total day calls'] + df['Total eve calls'] + \\\n    df['Total night calls'] + df['Total intl calls']\ndf.insert(loc=len(df.columns), column='Total calls', value=total_calls)\ndf.head()",
      "execution_count": null,
      "outputs": []
    },
    {
      "metadata": {
        "trusted": true,
        "_uuid": "59f5066f28dbecd7ef8951172973c9cc98750ba9"
      },
      "cell_type": "code",
      "source": "df['Total charge'] = df['Total day charge'] + df['Total eve charge'] + df['Total night charge'] + df['Total intl charge']\ndf.head()",
      "execution_count": null,
      "outputs": []
    },
    {
      "metadata": {
        "trusted": true,
        "_uuid": "53b1be9f9de7a9ca7a9fea2c2f12014ed2592fbf"
      },
      "cell_type": "code",
      "source": "df = df.drop(['Total charge','Total calls'], axis=1)\ndf.head()",
      "execution_count": null,
      "outputs": []
    },
    {
      "metadata": {
        "trusted": true,
        "_uuid": "658e01b7f1732539cc86ef856b0a65ad8556b673"
      },
      "cell_type": "code",
      "source": "pd.crosstab(df['Churn'], df['International plan'], margins=True)",
      "execution_count": null,
      "outputs": []
    },
    {
      "metadata": {
        "trusted": true,
        "_uuid": "f1e75a1b2773bb823f6c3895dd0495dfd7f3cf08"
      },
      "cell_type": "code",
      "source": "pd.crosstab(df['Churn'], df['Customer service calls'], margins=True)",
      "execution_count": null,
      "outputs": []
    },
    {
      "metadata": {
        "trusted": true,
        "_uuid": "d731cc942665480ba973051912c94f15669ff422"
      },
      "cell_type": "code",
      "source": "df['Many service calls'] = (df['Customer service calls'] > 3).astype('int')\npd.crosstab(df['Many service calls'], df['Churn'], margins=True)",
      "execution_count": null,
      "outputs": []
    },
    {
      "metadata": {
        "trusted": true,
        "_uuid": "e2c9e6a69ac0b68466f5f8c8bc054e580c3fe93b"
      },
      "cell_type": "code",
      "source": "df = pd.read_csv('../input/telecom_churn.csv')\ndf['Churn'].value_counts()",
      "execution_count": null,
      "outputs": []
    },
    {
      "metadata": {
        "trusted": true,
        "_uuid": "e906ddff1a7c3ef61163343eaefee67d6f620192"
      },
      "cell_type": "code",
      "source": "df['Churn'].value_counts().plot(kind='bar', label='Churn')\nplt.legend()\nplt.title('asdsa')",
      "execution_count": null,
      "outputs": []
    },
    {
      "metadata": {
        "trusted": true,
        "_uuid": "b59667529eb9fcfe1df19aff997bbb45c38ccfc8"
      },
      "cell_type": "code",
      "source": "import seaborn as sns\ncorr = df.drop(['State', 'International plan', 'Voice mail plan', 'Area code'], axis=1).corr()\nsns.heatmap(corr)",
      "execution_count": null,
      "outputs": []
    },
    {
      "metadata": {
        "trusted": true,
        "_uuid": "450bb9328a41e5b1648bde5d97dc030b3f923e9e"
      },
      "cell_type": "code",
      "source": "feat = list(set(df.columns)- set(['State', 'International plan', 'Voice mail plan', 'Area code', \n                              'Total dat charge', 'Total eve charge', 'Total night chatge', 'Total intl charge', 'Churn']))\ndf[feat].hist(figsize=(20,12))",
      "execution_count": null,
      "outputs": []
    },
    {
      "metadata": {
        "trusted": true,
        "_uuid": "e7de324c026f40304d1f721e0b03f50a74ccb928"
      },
      "cell_type": "code",
      "source": "sns.pairplot(df[feat + ['Churn']], hue='Churn')",
      "execution_count": null,
      "outputs": []
    },
    {
      "metadata": {
        "trusted": true,
        "_uuid": "b18699228484d132d6c5d658ead5328f3bf81713"
      },
      "cell_type": "code",
      "source": "fig, axes = plt.subplots(nrows= 3, ncols=4, figsize=(16,20))\nfor idx, feat in enumerate(feat):\n    sns.boxplot(x='Churn', y =feat, data=df, ax=axes[idx / 4, idx % 4])\n    axes[idx / 4, idx % 4].legend()\n    axes[idx / 4, idx % 4].set_xlabel('Churn')\n    axes[idx / 4, idx % 4].set_ylabel(feat)",
      "execution_count": null,
      "outputs": []
    },
    {
      "metadata": {
        "trusted": true,
        "_uuid": "8e862ddd5bc388bbd9532d76450d8e8921597105"
      },
      "cell_type": "code",
      "source": "from sklearn.manifold import TSNE\nfrom sklearn.preprocessing import StandardScaler",
      "execution_count": null,
      "outputs": []
    },
    {
      "metadata": {
        "trusted": true,
        "_uuid": "392337da3494a5a9354f55c6e183b9e0804c2115"
      },
      "cell_type": "code",
      "source": "x = df.drop(['Churn', 'State'], axis=1)\nx['International plan'] = pd.factorize(x['International plan'])[0]\nx['Voice mail plan'] = pd.factorize(x['Voice mail plan'])[0]\nscaler = StandardScaler ()\nx_scaled = scaler.fit_transform(x)\n%time\ntsne = TSNE(random_state=17)\ntsne_representation = tsne.fit_transform(x_scaled)\n",
      "execution_count": null,
      "outputs": []
    },
    {
      "metadata": {
        "trusted": true,
        "_uuid": "a161d372e35d0619992efe83efdfa7ddf96bfda5"
      },
      "cell_type": "code",
      "source": "",
      "execution_count": null,
      "outputs": []
    },
    {
      "metadata": {
        "trusted": true,
        "_uuid": "555ac770df7fadf5f336d937aca02551e50bc12f"
      },
      "cell_type": "code",
      "source": "plt.scatter(tsne_representation[:, 0], tsne_representatiom[:,1], c=df['Churn'].map({0: 'blue', 1: 'orange'}))",
      "execution_count": null,
      "outputs": []
    },
    {
      "metadata": {
        "trusted": true,
        "_uuid": "65449945b9c1c10856804301af5b6ae400f1cf7e"
      },
      "cell_type": "code",
      "source": "",
      "execution_count": null,
      "outputs": []
    }
  ],
  "metadata": {
    "kernelspec": {
      "display_name": "Python 3",
      "language": "python",
      "name": "python3"
    },
    "language_info": {
      "name": "python",
      "version": "3.6.6",
      "mimetype": "text/x-python",
      "codemirror_mode": {
        "name": "ipython",
        "version": 3
      },
      "pygments_lexer": "ipython3",
      "nbconvert_exporter": "python",
      "file_extension": ".py"
    }
  },
  "nbformat": 4,
  "nbformat_minor": 1
}